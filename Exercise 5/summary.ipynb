{
 "cells": [
  {
   "cell_type": "code",
   "execution_count": 47,
   "metadata": {
    "scrolled": true
   },
   "outputs": [],
   "source": [
    "import pandas as pd\n",
    "import numpy as np\n",
    "import matplotlib.pyplot as plt\n",
    "\n",
    "\n",
    "filename_list = ['data-1.csv', 'data-2.csv', 'data-3.csv', 'data-4.csv', 'data-5.csv', 'data-6.csv']\n",
    "for filename in filename_list:\n",
    "    data = pd.read_csv(filename)\n",
    "#     print(data)\n",
    "    x_mean = data['x'].mean()\n",
    "    y_mean = data['y'].mean()\n",
    "    \n",
    "    x_std = data['x'].std()\n",
    "    y_std = data['y'].std()\n",
    "    \n",
    "    x_min = data['x'].min()\n",
    "    y_min = data['y'].min()\n",
    "    \n",
    "    x_max = data['x'].max()\n",
    "    y_max = data['y'].max()\n",
    "    \n",
    "    corr = data['x'].corr(data['y'])\n",
    "#     print(filename, ':')\n",
    "#     print('x mean: ', x_mean)\n",
    "#     print('y mean: ', y_mean)\n",
    "#     print('x standard deviation: ', x_std)\n",
    "#     print('y standard deviation: ', y_std)\n",
    "#     print('x range: ', x_min, ' ~ ', x_max)\n",
    "#     print('y range: ', y_min, ' ~ ', y_max)\n",
    "#     print('correlation coefficient between the x and y variables: ', corr)\n",
    "#     print('Description: ')\n",
    "#     print('\\n')\n",
    "#     if filename == 'data-6.csv':\n",
    "#         plt.plot(data['x'], data['y'], 'b.')\n",
    "#         plt"
   ]
  }
 ],
 "metadata": {
  "kernelspec": {
   "display_name": "Python 3",
   "language": "python",
   "name": "python3"
  },
  "language_info": {
   "codemirror_mode": {
    "name": "ipython",
    "version": 3
   },
   "file_extension": ".py",
   "mimetype": "text/x-python",
   "name": "python",
   "nbconvert_exporter": "python",
   "pygments_lexer": "ipython3",
   "version": "3.6.4"
  }
 },
 "nbformat": 4,
 "nbformat_minor": 2
}
