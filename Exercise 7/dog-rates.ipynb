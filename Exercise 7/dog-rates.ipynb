{
 "cells": [
  {
   "cell_type": "code",
   "execution_count": 3,
   "metadata": {},
   "outputs": [],
   "source": [
    "import pandas as pd\n",
    "import numpy as np\n",
    "import re\n",
    "import warnings\n",
    "import matplotlib.pyplot as plt\n",
    "import datetime\n",
    "from scipy import stats\n",
    "warnings.filterwarnings('ignore')\n",
    "\n",
    "\n",
    "data = pd.read_csv('dog_rates_tweets.csv').set_index(keys=['id'])\n",
    "search_key = r'(\\d+(\\.\\d+)?)/10'\n",
    "rated_data = data.loc[data['text'].str.contains(search_key)]\n",
    "rated_data['rating'] = rated_data['text'].str.extract(search_key, expand=False)[0].values\n",
    "\n",
    "\n",
    "rated_data['rating'] = rated_data['rating'].astype(str).astype(float)\n",
    "rated_data = rated_data[rated_data.rating <= 25.0]\n",
    "\n",
    "rated_data['created_at'] = rated_data['created_at'].astype(str)\n",
    "rated_data['created_at'] = pd.to_datetime(rated_data['created_at'].values, format='%Y-%m-%d %H:%M:%S')\n",
    "first_day = rated_data['created_at'].values.min()\n",
    "rated_data['timestamp'] = (rated_data['created_at'] - first_day) / np.timedelta64(1, 's')\n",
    "\n",
    "x = rated_data['timestamp'].values\n",
    "y = rated_data['rating'].values\n",
    "\n",
    "slope, intercept, r_value, p_value, std_err = stats.linregress(x, y)\n",
    "\n",
    "rated_data['predict'] = rated_data['timestamp'] * slope + intercept\n",
    "\n",
    "# rated_data"
   ]
  },
  {
   "cell_type": "code",
   "execution_count": null,
   "metadata": {},
   "outputs": [],
   "source": []
  },
  {
   "cell_type": "code",
   "execution_count": 4,
   "metadata": {},
   "outputs": [
    {
     "name": "stdout",
     "output_type": "stream",
     "text": [
      "slope:  4.5650941366882184e-08\n",
      "intercept:  10.490286831987644\n",
      "p-value:  1.0836168506032591e-104\n"
     ]
    }
   ],
   "source": [
    "# slope, intercept, p_value\n",
    "print(\"slope: \", slope)\n",
    "print(\"intercept: \", intercept)\n",
    "print(\"p-value: \", p_value)"
   ]
  },
  {
   "cell_type": "code",
   "execution_count": 7,
   "metadata": {},
   "outputs": [
    {
     "data": {
      "image/png": "[encoded data removed]",
      "text/plain": [
       "<matplotlib.figure.Figure at 0x12044b117f0>"
      ]
     },
     "metadata": {},
     "output_type": "display_data"
    }
   ],
   "source": [
    "# plt.plot(rated_data['created_at'], rated_data['rating'], 'b.', alpha=0.5)\n",
    "# plt.plot(rated_data['created_at'], rated_data['predict'], 'r-', linewidth=3)\n",
    "\n",
    "plt.hist(rated_data['rating'] - rated_data['predict'], bins=30)\n",
    "\n",
    "plt.xlabel('date')\n",
    "plt.ylabel('rating')\n",
    "plt.show()"
   ]
  },
  {
   "cell_type": "code",
   "execution_count": null,
   "metadata": {},
   "outputs": [],
   "source": []
  }
 ],
 "metadata": {
  "kernelspec": {
   "display_name": "Python 3",
   "language": "python",
   "name": "python3"
  },
  "language_info": {
   "codemirror_mode": {
    "name": "ipython",
    "version": 3
   },
   "file_extension": ".py",
   "mimetype": "text/x-python",
   "name": "python",
   "nbconvert_exporter": "python",
   "pygments_lexer": "ipython3",
   "version": "3.6.4"
  }
 },
 "nbformat": 4,
 "nbformat_minor": 2
}
